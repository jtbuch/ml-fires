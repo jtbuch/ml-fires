{
 "cells": [
  {
   "cell_type": "markdown",
   "metadata": {
    "id": "07EE3utzMZHi",
    "tags": []
   },
   "source": [
    "# Estimating grid cell fire probabailities with Random Forests\n",
    "\n",
    "Authors: Jatan Buch (v1, 220207)"
   ]
  },
  {
   "cell_type": "markdown",
   "metadata": {
    "id": "1NPgLnL3MZHm",
    "tags": []
   },
   "source": [
    "## 1 - Packages"
   ]
  },
  {
   "cell_type": "code",
   "execution_count": 1,
   "metadata": {
    "colab": {
     "base_uri": "https://localhost:8080/"
    },
    "executionInfo": {
     "elapsed": 3241,
     "status": "ok",
     "timestamp": 1608648058329,
     "user": {
      "displayName": "Jessalyn Chuang",
      "photoUrl": "",
      "userId": "15246295192484075185"
     },
     "user_tz": 300
    },
    "id": "gSMhuNuhMZHn",
    "outputId": "38ca8570-c4d6-44cb-acdb-e56bf8457b6a"
   },
   "outputs": [],
   "source": [
    "import numpy as np\n",
    "import pandas as pd\n",
    "#from time import clock\n",
    "from datetime import date, datetime, timedelta\n",
    "from cftime import num2date, date2num, DatetimeGregorian\n",
    "from tqdm import tqdm\n",
    "from copy import deepcopy\n",
    "\n",
    "#Import and write files\n",
    "import csv\n",
    "import netCDF4 # module that reads in .nc files (built on top of HDF5 format)\n",
    "import pandas as pd\n",
    "import geopandas as gpd\n",
    "from geopandas.tools import sjoin\n",
    "import xarray\n",
    "import rioxarray\n",
    "\n",
    "from shapely.geometry import Point, mapping\n",
    "from shapely.geometry.polygon import Polygon\n",
    "from pyproj import CRS, Transformer # for transforming projected coordinates to elliptical coordinates\n",
    "import cartopy.crs as ccrs # for defining and transforming coordinate systems\n",
    "import cartopy.feature as cfeature # to add features to a cartopy map\n",
    "import cartopy.io.shapereader as shpreader\n",
    "\n",
    "#self-libraries\n",
    "from fire_utils import *\n",
    "from ml_utils import *\n",
    "\n",
    "#Helper functions\n",
    "from math import factorial\n",
    "from scipy import stats\n",
    "from scipy.special import gamma\n",
    "from sklearn.base import BaseEstimator, ClassifierMixin\n",
    "from sklearn.exceptions import NotFittedError\n",
    "from tensorflow.python import ops\n",
    "from tensorflow.python import debug as tf_debug\n",
    "\n",
    "#Plot modules\n",
    "import matplotlib.pyplot as plt\n",
    "%matplotlib inline\n",
    "%config IPython.matplotlib.backend = 'retina'\n",
    "%config InlineBackend.figure_format = 'retina'\n",
    "\n",
    "#Stats modules\n",
    "from scipy import stats\n",
    "from scipy.stats import norm, pareto, genpareto\n",
    "import statsmodels.api as sm\n",
    "from scipy import stats, interpolate\n",
    "from scipy.optimize import minimize\n",
    "\n",
    "# Data processing\n",
    "from sklearn.preprocessing import StandardScaler, MinMaxScaler\n",
    "from sklearn.model_selection import train_test_split\n",
    "import joblib\n",
    "\n",
    "#modules for Machine Learning\n",
    "from sklearn.ensemble import RandomForestRegressor\n",
    "from sklearn.model_selection import RandomizedSearchCV, GridSearchCV\n",
    "from sklearn.ensemble import RandomForestClassifier\n",
    "from sklearn import metrics\n",
    "from sklearn.metrics import confusion_matrix\n",
    "from sklearn.inspection import permutation_importance\n",
    "from sklearn.linear_model import LinearRegression\n",
    "import shap\n",
    "\n",
    "#modules for Neural Network\n",
    "import tensorflow as tf\n",
    "import tensorflow_probability as tfp\n",
    "tfd= tfp.distributions\n",
    "from tensorflow.keras.layers import Input, Dense, Activation, Concatenate\n",
    "from tensorflow.keras.callbacks import EarlyStopping, TensorBoard, ReduceLROnPlateau\n",
    "#import tensorflow.compat.v1 as tf\n",
    "#tf.disable_v2_behavior()\n",
    "#from tensorflow.keras import layers\n",
    "#from tensorflow.python.ops.parallel_for.gradients import jacobian"
   ]
  },
  {
   "cell_type": "code",
   "execution_count": 2,
   "metadata": {},
   "outputs": [],
   "source": [
    "data_dir= \"../data/\"\n",
    "clim_df= pd.read_hdf('../data/clim_fire_freq_12km_data.h5')\n",
    "clim_df.loc[clim_df[clim_df.fire_freq > 1].index, 'fire_freq']= np.ones(len(clim_df[clim_df.fire_freq > 1].index), dtype= np.int64)"
   ]
  },
  {
   "cell_type": "code",
   "execution_count": 15,
   "metadata": {},
   "outputs": [
    {
     "name": "stderr",
     "output_type": "stream",
     "text": [
      "  0%|          | 0/5 [00:00<?, ?it/s]"
     ]
    },
    {
     "name": "stdout",
     "output_type": "stream",
     "text": [
      "Validation iteration 1 for fire size MDN with gpd loss function\n"
     ]
    },
    {
     "name": "stderr",
     "output_type": "stream",
     "text": [
      " 20%|██        | 1/5 [01:02<04:11, 62.83s/it]"
     ]
    },
    {
     "name": "stdout",
     "output_type": "stream",
     "text": [
      "Validation iteration 2 for fire size MDN with gpd loss function\n"
     ]
    },
    {
     "name": "stderr",
     "output_type": "stream",
     "text": [
      " 40%|████      | 2/5 [02:00<02:59, 59.75s/it]"
     ]
    },
    {
     "name": "stdout",
     "output_type": "stream",
     "text": [
      "Validation iteration 3 for fire size MDN with gpd loss function\n"
     ]
    },
    {
     "name": "stderr",
     "output_type": "stream",
     "text": [
      " 60%|██████    | 3/5 [03:12<02:10, 65.47s/it]"
     ]
    },
    {
     "name": "stdout",
     "output_type": "stream",
     "text": [
      "Validation iteration 4 for fire size MDN with gpd loss function\n"
     ]
    },
    {
     "name": "stderr",
     "output_type": "stream",
     "text": [
      " 80%|████████  | 4/5 [04:24<01:08, 68.02s/it]"
     ]
    },
    {
     "name": "stdout",
     "output_type": "stream",
     "text": [
      "Validation iteration 5 for fire size MDN with gpd loss function\n"
     ]
    },
    {
     "name": "stderr",
     "output_type": "stream",
     "text": [
      "100%|██████████| 5/5 [05:25<00:00, 65.04s/it]\n"
     ]
    }
   ],
   "source": [
    "gpd_train_acc, gpd_val_acc, gpd_train_loss, gpd_val_loss, gpd_acc_iter, gpd_val_acc_iter, gpd_loss_iter, gpd_val_loss_iter= \\\n",
    "     validation_cycle(n_layers= 2, n_neurons= 16, n_components= 2, epochs= 300, lr= 1e-4, X_dat= X_sizes_train, y_dat= y_sizes_train, X_val_dat= X_sizes_val, \\\n",
    "                      y_val_dat= y_sizes_val, fire_tag= 'size', func_flag= 'gpd')"
   ]
  },
  {
   "cell_type": "code",
   "execution_count": 16,
   "metadata": {},
   "outputs": [
    {
     "name": "stdout",
     "output_type": "stream",
     "text": [
      "Training Loss:  3.3353403409322104\n",
      "Validation Loss:  3.36277437210083\n",
      "Training Accuracy:  89.56227366129558\n",
      "Validation Accuracy:  89.48051452636719\n"
     ]
    }
   ],
   "source": [
    "print('Training Loss: ', np.nanmean(gpd_loss_iter))\n",
    "print('Validation Loss: ', np.nanmean(gpd_val_loss_iter))\n",
    "print('Training Accuracy: ', np.nanmean(gpd_acc_iter))\n",
    "print('Validation Accuracy: ', np.nanmean(gpd_val_acc_iter))"
   ]
  },
  {
   "cell_type": "code",
   "execution_count": 25,
   "metadata": {
    "id": "FKkF5AqjMZIQ",
    "outputId": "2538f864-37b5-432b-eb29-e45b508ac267",
    "tags": []
   },
   "outputs": [
    {
     "data": {
      "image/png": "[encoded data removed]",
      "text/plain": [
       "<Figure size 432x288 with 1 Axes>"
      ]
     },
     "metadata": {
      "image/png": {
       "height": 277,
       "width": 398
      },
      "needs_background": "light"
     },
     "output_type": "display_data"
    },
    {
     "data": {
      "image/png": "[encoded data removed]",
      "text/plain": [
       "<Figure size 432x288 with 1 Axes>"
      ]
     },
     "metadata": {
      "image/png": {
       "height": 277,
       "width": 385
      },
      "needs_background": "light"
     },
     "output_type": "display_data"
    }
   ],
   "source": [
    "plt.title('Training and validation accuracy')\n",
    "\n",
    "plt.plot(range(len(gpd_train_acc[0])), np.nanmean(gpd_train_acc, axis= 0), color='blue', label='Train')\n",
    "plt.plot(range(len(gpd_val_acc[0])), np.nanmean(gpd_val_acc, axis= 0), color='orange', label='Val')\n",
    "plt.ylim(0, 100);\n",
    "plt.xlim(0, 300);\n",
    "plt.xlabel('Epoch')\n",
    "plt.ylabel('Accuracy')\n",
    "plt.legend()\n",
    "\n",
    "\n",
    "_ = plt.figure()\n",
    "plt.title('Training and validation loss')\n",
    "plt.plot(range(len(gpd_train_loss[0])), np.nanmean(gpd_train_loss, axis= 0), color='blue', label='Train')\n",
    "plt.plot(range(len(gpd_val_loss[0])), np.nanmean(gpd_val_loss, axis= 0), color='orange', label='Val')\n",
    "plt.xlabel('Epoch')\n",
    "plt.ylabel('Loss')\n",
    "plt.legend()\n",
    "plt.show()"
   ]
  },
  {
   "cell_type": "code",
   "execution_count": 13,
   "metadata": {},
   "outputs": [
    {
     "name": "stderr",
     "output_type": "stream",
     "text": [
      "  0%|          | 0/5 [00:00<?, ?it/s]"
     ]
    },
    {
     "name": "stdout",
     "output_type": "stream",
     "text": [
      "Validation iteration 1 for fire size MDN with lognorm loss function\n"
     ]
    },
    {
     "name": "stderr",
     "output_type": "stream",
     "text": [
      " 20%|██        | 1/5 [00:26<01:45, 26.30s/it]"
     ]
    },
    {
     "name": "stdout",
     "output_type": "stream",
     "text": [
      "Validation iteration 2 for fire size MDN with lognorm loss function\n"
     ]
    },
    {
     "name": "stderr",
     "output_type": "stream",
     "text": [
      " 40%|████      | 2/5 [01:10<01:50, 36.98s/it]"
     ]
    },
    {
     "name": "stdout",
     "output_type": "stream",
     "text": [
      "Validation iteration 3 for fire size MDN with lognorm loss function\n"
     ]
    },
    {
     "name": "stderr",
     "output_type": "stream",
     "text": [
      " 60%|██████    | 3/5 [01:34<01:01, 30.98s/it]"
     ]
    },
    {
     "name": "stdout",
     "output_type": "stream",
     "text": [
      "Validation iteration 4 for fire size MDN with lognorm loss function\n"
     ]
    },
    {
     "name": "stderr",
     "output_type": "stream",
     "text": [
      " 80%|████████  | 4/5 [02:00<00:29, 29.17s/it]"
     ]
    },
    {
     "name": "stdout",
     "output_type": "stream",
     "text": [
      "Validation iteration 5 for fire size MDN with lognorm loss function\n"
     ]
    },
    {
     "name": "stderr",
     "output_type": "stream",
     "text": [
      "100%|██████████| 5/5 [02:28<00:00, 29.67s/it]\n"
     ]
    }
   ],
   "source": [
    "lognorm_train_acc, lognorm_val_acc, lognorm_train_loss, lognorm_val_loss, lognorm_acc_iter, lognorm_val_acc_iter, lognorm_loss_iter, lognorm_val_loss_iter= \\\n",
    "     validation_cycle(n_layers= 2, n_neurons= 8, n_components= 3, X_dat= X_sizes_train, y_dat= y_sizes_train, X_val_dat= X_sizes_val, \\\n",
    "                      y_val_dat= y_sizes_val, fire_tag= 'size', func_flag= 'lognorm')"
   ]
  },
  {
   "cell_type": "code",
   "execution_count": 16,
   "metadata": {},
   "outputs": [
    {
     "name": "stdout",
     "output_type": "stream",
     "text": [
      "Training Loss:  3.183659219741821\n",
      "Validation Loss:  3.162890911102295\n",
      "Training Accuracy:  87.57426605224609\n",
      "Validation Accuracy:  86.00187072753906\n"
     ]
    }
   ],
   "source": [
    "print('Training Loss: ', np.nanmean(lognorm_loss_iter))\n",
    "print('Validation Loss: ', np.nanmean(lognorm_val_loss_iter))\n",
    "print('Training Accuracy: ', np.nanmean(lognorm_acc_iter))\n",
    "print('Validation Accuracy: ', np.nanmean(lognorm_val_acc_iter))"
   ]
  },
  {
   "cell_type": "code",
   "execution_count": 15,
   "metadata": {
    "tags": []
   },
   "outputs": [
    {
     "data": {
      "image/png": "[encoded data removed]",
      "text/plain": [
       "<Figure size 432x288 with 1 Axes>"
      ]
     },
     "metadata": {
      "image/png": {
       "height": 277,
       "width": 398
      },
      "needs_background": "light"
     },
     "output_type": "display_data"
    },
    {
     "data": {
      "image/png": "[encoded data removed]",
      "text/plain": [
       "<Figure size 432x288 with 1 Axes>"
      ]
     },
     "metadata": {
      "image/png": {
       "height": 277,
       "width": 385
      },
      "needs_background": "light"
     },
     "output_type": "display_data"
    }
   ],
   "source": [
    "plt.title('Training and validation accuracy')\n",
    "\n",
    "plt.plot(range(len(lognorm_train_acc[0])), np.mean(lognorm_train_acc, axis= 0), color='blue', label='Train')\n",
    "plt.plot(range(len(lognorm_val_acc[0])), np.mean(lognorm_val_acc, axis= 0), color='orange', label='Val')\n",
    "plt.ylim(0, 100);\n",
    "plt.xlim(0, 100);\n",
    "plt.xlabel('Epoch')\n",
    "plt.ylabel('Accuracy')\n",
    "plt.legend()\n",
    "\n",
    "\n",
    "_ = plt.figure()\n",
    "plt.title('Training and validation loss')\n",
    "plt.plot(range(len(lognorm_train_loss[0])), np.mean(lognorm_train_loss, axis= 0), color='blue', label='Train')\n",
    "plt.plot(range(len(lognorm_val_loss[0])), np.mean(lognorm_val_loss, axis= 0), color='orange', label='Val')\n",
    "plt.xlabel('Epoch')\n",
    "plt.ylabel('Loss')\n",
    "plt.legend()\n",
    "plt.show()"
   ]
  },
  {
   "cell_type": "markdown",
   "metadata": {
    "id": "AEvGcQCuMZH7"
   },
   "source": [
    "### Fire occurrence prediction with Random Forest\n",
    "\n",
    "We use a random forest classifier to predict if a fire occurs or not. This is a binary classification problem: the model outputs 1 if a fire occurs and 0 otherwise."
   ]
  },
  {
   "cell_type": "code",
   "execution_count": 3,
   "metadata": {
    "colab": {
     "base_uri": "https://localhost:8080/",
     "height": 0
    },
    "executionInfo": {
     "elapsed": 25182,
     "status": "ok",
     "timestamp": 1608648111025,
     "user": {
      "displayName": "Jessalyn Chuang",
      "photoUrl": "",
      "userId": "15246295192484075185"
     },
     "user_tz": 300
    },
    "id": "EF7u8clMMZH7",
    "outputId": "a0c8d524-55e3-4e2a-edc6-1291075738e8",
    "scrolled": true,
    "tags": []
   },
   "outputs": [
    {
     "data": {
      "text/html": [
       "<div>\n",
       "<style scoped>\n",
       "    .dataframe tbody tr th:only-of-type {\n",
       "        vertical-align: middle;\n",
       "    }\n",
       "\n",
       "    .dataframe tbody tr th {\n",
       "        vertical-align: top;\n",
       "    }\n",
       "\n",
       "    .dataframe thead th {\n",
       "        text-align: right;\n",
       "    }\n",
       "</style>\n",
       "<table border=\"1\" class=\"dataframe\">\n",
       "  <thead>\n",
       "    <tr style=\"text-align: right;\">\n",
       "      <th></th>\n",
       "      <th>Tmax</th>\n",
       "      <th>VPD</th>\n",
       "      <th>Prec</th>\n",
       "      <th>Antprec_lag1</th>\n",
       "      <th>Forest</th>\n",
       "      <th>Solar</th>\n",
       "      <th>Wind</th>\n",
       "      <th>Elev</th>\n",
       "      <th>Grassland</th>\n",
       "      <th>RH</th>\n",
       "      <th>...</th>\n",
       "      <th>VPD_max7</th>\n",
       "      <th>Tmax_max3</th>\n",
       "      <th>Tmax_max7</th>\n",
       "      <th>Tmin_max3</th>\n",
       "      <th>Tmin_max7</th>\n",
       "      <th>Slope</th>\n",
       "      <th>Southness</th>\n",
       "      <th>AvgVPD_4mo</th>\n",
       "      <th>AvgVPD_2mo</th>\n",
       "      <th>fire_freq</th>\n",
       "    </tr>\n",
       "  </thead>\n",
       "  <tbody>\n",
       "    <tr>\n",
       "      <th>0</th>\n",
       "      <td>7.51</td>\n",
       "      <td>2.41</td>\n",
       "      <td>181.070007</td>\n",
       "      <td>86.695839</td>\n",
       "      <td>0.853861</td>\n",
       "      <td>43.270000</td>\n",
       "      <td>8.42</td>\n",
       "      <td>46.709999</td>\n",
       "      <td>0.009268</td>\n",
       "      <td>73.000000</td>\n",
       "      <td>...</td>\n",
       "      <td>3.62</td>\n",
       "      <td>9.49</td>\n",
       "      <td>8.91</td>\n",
       "      <td>7.30</td>\n",
       "      <td>6.88</td>\n",
       "      <td>0.92</td>\n",
       "      <td>-0.17</td>\n",
       "      <td>3.5025</td>\n",
       "      <td>2.740</td>\n",
       "      <td>0</td>\n",
       "    </tr>\n",
       "    <tr>\n",
       "      <th>1</th>\n",
       "      <td>7.41</td>\n",
       "      <td>2.38</td>\n",
       "      <td>202.220001</td>\n",
       "      <td>95.421669</td>\n",
       "      <td>0.467644</td>\n",
       "      <td>43.160000</td>\n",
       "      <td>4.71</td>\n",
       "      <td>47.369999</td>\n",
       "      <td>0.014522</td>\n",
       "      <td>73.180000</td>\n",
       "      <td>...</td>\n",
       "      <td>3.71</td>\n",
       "      <td>11.46</td>\n",
       "      <td>9.62</td>\n",
       "      <td>6.19</td>\n",
       "      <td>5.22</td>\n",
       "      <td>1.23</td>\n",
       "      <td>-0.06</td>\n",
       "      <td>3.3375</td>\n",
       "      <td>2.600</td>\n",
       "      <td>0</td>\n",
       "    </tr>\n",
       "    <tr>\n",
       "      <th>2</th>\n",
       "      <td>7.28</td>\n",
       "      <td>2.33</td>\n",
       "      <td>207.389999</td>\n",
       "      <td>95.521667</td>\n",
       "      <td>0.756240</td>\n",
       "      <td>45.689999</td>\n",
       "      <td>3.76</td>\n",
       "      <td>74.360001</td>\n",
       "      <td>0.000565</td>\n",
       "      <td>73.370003</td>\n",
       "      <td>...</td>\n",
       "      <td>3.72</td>\n",
       "      <td>12.62</td>\n",
       "      <td>9.88</td>\n",
       "      <td>6.47</td>\n",
       "      <td>5.06</td>\n",
       "      <td>0.54</td>\n",
       "      <td>0.04</td>\n",
       "      <td>3.1775</td>\n",
       "      <td>2.455</td>\n",
       "      <td>0</td>\n",
       "    </tr>\n",
       "    <tr>\n",
       "      <th>3</th>\n",
       "      <td>7.74</td>\n",
       "      <td>2.61</td>\n",
       "      <td>159.919998</td>\n",
       "      <td>77.969994</td>\n",
       "      <td>0.429114</td>\n",
       "      <td>43.009998</td>\n",
       "      <td>7.95</td>\n",
       "      <td>24.000000</td>\n",
       "      <td>0.012174</td>\n",
       "      <td>71.089996</td>\n",
       "      <td>...</td>\n",
       "      <td>3.59</td>\n",
       "      <td>9.41</td>\n",
       "      <td>8.88</td>\n",
       "      <td>7.39</td>\n",
       "      <td>6.84</td>\n",
       "      <td>1.01</td>\n",
       "      <td>-0.16</td>\n",
       "      <td>3.7150</td>\n",
       "      <td>2.895</td>\n",
       "      <td>0</td>\n",
       "    </tr>\n",
       "    <tr>\n",
       "      <th>4</th>\n",
       "      <td>7.62</td>\n",
       "      <td>2.70</td>\n",
       "      <td>178.570007</td>\n",
       "      <td>84.817497</td>\n",
       "      <td>0.501928</td>\n",
       "      <td>41.669998</td>\n",
       "      <td>4.69</td>\n",
       "      <td>34.830002</td>\n",
       "      <td>0.012440</td>\n",
       "      <td>69.800003</td>\n",
       "      <td>...</td>\n",
       "      <td>3.65</td>\n",
       "      <td>10.39</td>\n",
       "      <td>9.36</td>\n",
       "      <td>6.80</td>\n",
       "      <td>5.62</td>\n",
       "      <td>0.58</td>\n",
       "      <td>-0.15</td>\n",
       "      <td>3.6775</td>\n",
       "      <td>2.895</td>\n",
       "      <td>0</td>\n",
       "    </tr>\n",
       "  </tbody>\n",
       "</table>\n",
       "<p>5 rows × 37 columns</p>\n",
       "</div>"
      ],
      "text/plain": [
       "   Tmax   VPD        Prec  Antprec_lag1    Forest      Solar  Wind       Elev  \\\n",
       "0  7.51  2.41  181.070007     86.695839  0.853861  43.270000  8.42  46.709999   \n",
       "1  7.41  2.38  202.220001     95.421669  0.467644  43.160000  4.71  47.369999   \n",
       "2  7.28  2.33  207.389999     95.521667  0.756240  45.689999  3.76  74.360001   \n",
       "3  7.74  2.61  159.919998     77.969994  0.429114  43.009998  7.95  24.000000   \n",
       "4  7.62  2.70  178.570007     84.817497  0.501928  41.669998  4.69  34.830002   \n",
       "\n",
       "   Grassland         RH  ...  VPD_max7  Tmax_max3  Tmax_max7  Tmin_max3  \\\n",
       "0   0.009268  73.000000  ...      3.62       9.49       8.91       7.30   \n",
       "1   0.014522  73.180000  ...      3.71      11.46       9.62       6.19   \n",
       "2   0.000565  73.370003  ...      3.72      12.62       9.88       6.47   \n",
       "3   0.012174  71.089996  ...      3.59       9.41       8.88       7.39   \n",
       "4   0.012440  69.800003  ...      3.65      10.39       9.36       6.80   \n",
       "\n",
       "   Tmin_max7  Slope  Southness  AvgVPD_4mo  AvgVPD_2mo  fire_freq  \n",
       "0       6.88   0.92      -0.17      3.5025       2.740          0  \n",
       "1       5.22   1.23      -0.06      3.3375       2.600          0  \n",
       "2       5.06   0.54       0.04      3.1775       2.455          0  \n",
       "3       6.84   1.01      -0.16      3.7150       2.895          0  \n",
       "4       5.62   0.58      -0.15      3.6775       2.895          0  \n",
       "\n",
       "[5 rows x 37 columns]"
      ]
     },
     "execution_count": 3,
     "metadata": {},
     "output_type": "execute_result"
    }
   ],
   "source": [
    "clim_df.head() #clim_df.shape ~1e7"
   ]
  },
  {
   "cell_type": "code",
   "execution_count": 18,
   "metadata": {},
   "outputs": [],
   "source": [
    "#run_id= '22_02_07'\n",
    "#param_df= rf_hyperparam_tuning(clim_df, n_iters= 5, run_id= run_id)\n",
    "#param_df.to_hdf('../sav_files/rf_runs_%s'%run_id + '/rf_params_%s.h5'%run_id, key= 'df', mode= 'w')"
   ]
  },
  {
   "cell_type": "code",
   "execution_count": 53,
   "metadata": {},
   "outputs": [],
   "source": [
    "run_id= '22_02_07'\n",
    "param_df= pd.read_hdf('../sav_files/rf_runs_%s'%run_id + '/rf_params_%s.h5'%run_id)\n",
    "param_df['tot_metric']= param_df['Test Accuracy']*param_df['Test Recall']"
   ]
  },
  {
   "cell_type": "code",
   "execution_count": 54,
   "metadata": {},
   "outputs": [
    {
     "data": {
      "text/html": [
       "<div>\n",
       "<style scoped>\n",
       "    .dataframe tbody tr th:only-of-type {\n",
       "        vertical-align: middle;\n",
       "    }\n",
       "\n",
       "    .dataframe tbody tr th {\n",
       "        vertical-align: top;\n",
       "    }\n",
       "\n",
       "    .dataframe thead th {\n",
       "        text-align: right;\n",
       "    }\n",
       "</style>\n",
       "<table border=\"1\" class=\"dataframe\">\n",
       "  <thead>\n",
       "    <tr style=\"text-align: right;\">\n",
       "      <th></th>\n",
       "      <th>Iteration</th>\n",
       "      <th>Trees</th>\n",
       "      <th>Rebalance frac</th>\n",
       "      <th>Threshold</th>\n",
       "      <th>Train Accuracy</th>\n",
       "      <th>Train Recall</th>\n",
       "      <th>Test Accuracy</th>\n",
       "      <th>Test Recall</th>\n",
       "      <th>tot_metric</th>\n",
       "    </tr>\n",
       "  </thead>\n",
       "  <tbody>\n",
       "    <tr>\n",
       "      <th>136</th>\n",
       "      <td>2</td>\n",
       "      <td>250</td>\n",
       "      <td>2.333333</td>\n",
       "      <td>0.5</td>\n",
       "      <td>0.847000</td>\n",
       "      <td>0.741729</td>\n",
       "      <td>0.813493</td>\n",
       "      <td>0.820091</td>\n",
       "      <td>0.667138</td>\n",
       "    </tr>\n",
       "    <tr>\n",
       "      <th>46</th>\n",
       "      <td>1</td>\n",
       "      <td>250</td>\n",
       "      <td>2.333333</td>\n",
       "      <td>0.5</td>\n",
       "      <td>0.854900</td>\n",
       "      <td>0.747784</td>\n",
       "      <td>0.815683</td>\n",
       "      <td>0.817679</td>\n",
       "      <td>0.666967</td>\n",
       "    </tr>\n",
       "    <tr>\n",
       "      <th>406</th>\n",
       "      <td>5</td>\n",
       "      <td>250</td>\n",
       "      <td>2.333333</td>\n",
       "      <td>0.5</td>\n",
       "      <td>0.850900</td>\n",
       "      <td>0.745693</td>\n",
       "      <td>0.816855</td>\n",
       "      <td>0.814983</td>\n",
       "      <td>0.665723</td>\n",
       "    </tr>\n",
       "    <tr>\n",
       "      <th>316</th>\n",
       "      <td>4</td>\n",
       "      <td>250</td>\n",
       "      <td>2.333333</td>\n",
       "      <td>0.5</td>\n",
       "      <td>0.845700</td>\n",
       "      <td>0.740541</td>\n",
       "      <td>0.820515</td>\n",
       "      <td>0.811010</td>\n",
       "      <td>0.665446</td>\n",
       "    </tr>\n",
       "    <tr>\n",
       "      <th>226</th>\n",
       "      <td>3</td>\n",
       "      <td>250</td>\n",
       "      <td>2.333333</td>\n",
       "      <td>0.5</td>\n",
       "      <td>0.852000</td>\n",
       "      <td>0.747268</td>\n",
       "      <td>0.819982</td>\n",
       "      <td>0.808173</td>\n",
       "      <td>0.662687</td>\n",
       "    </tr>\n",
       "    <tr>\n",
       "      <th>409</th>\n",
       "      <td>5</td>\n",
       "      <td>250</td>\n",
       "      <td>1.500000</td>\n",
       "      <td>0.5</td>\n",
       "      <td>0.835867</td>\n",
       "      <td>0.797099</td>\n",
       "      <td>0.707111</td>\n",
       "      <td>0.913593</td>\n",
       "      <td>0.646012</td>\n",
       "    </tr>\n",
       "    <tr>\n",
       "      <th>229</th>\n",
       "      <td>3</td>\n",
       "      <td>250</td>\n",
       "      <td>1.500000</td>\n",
       "      <td>0.5</td>\n",
       "      <td>0.842533</td>\n",
       "      <td>0.798705</td>\n",
       "      <td>0.708732</td>\n",
       "      <td>0.911039</td>\n",
       "      <td>0.645682</td>\n",
       "    </tr>\n",
       "    <tr>\n",
       "      <th>49</th>\n",
       "      <td>1</td>\n",
       "      <td>250</td>\n",
       "      <td>1.500000</td>\n",
       "      <td>0.5</td>\n",
       "      <td>0.833600</td>\n",
       "      <td>0.791861</td>\n",
       "      <td>0.704459</td>\n",
       "      <td>0.912599</td>\n",
       "      <td>0.642889</td>\n",
       "    </tr>\n",
       "    <tr>\n",
       "      <th>319</th>\n",
       "      <td>4</td>\n",
       "      <td>250</td>\n",
       "      <td>1.500000</td>\n",
       "      <td>0.5</td>\n",
       "      <td>0.838667</td>\n",
       "      <td>0.800000</td>\n",
       "      <td>0.707501</td>\n",
       "      <td>0.908059</td>\n",
       "      <td>0.642452</td>\n",
       "    </tr>\n",
       "    <tr>\n",
       "      <th>139</th>\n",
       "      <td>2</td>\n",
       "      <td>250</td>\n",
       "      <td>1.500000</td>\n",
       "      <td>0.5</td>\n",
       "      <td>0.832533</td>\n",
       "      <td>0.793828</td>\n",
       "      <td>0.706526</td>\n",
       "      <td>0.907633</td>\n",
       "      <td>0.641267</td>\n",
       "    </tr>\n",
       "    <tr>\n",
       "      <th>403</th>\n",
       "      <td>5</td>\n",
       "      <td>250</td>\n",
       "      <td>3.000000</td>\n",
       "      <td>0.5</td>\n",
       "      <td>0.856417</td>\n",
       "      <td>0.693143</td>\n",
       "      <td>0.865288</td>\n",
       "      <td>0.736805</td>\n",
       "      <td>0.637549</td>\n",
       "    </tr>\n",
       "    <tr>\n",
       "      <th>223</th>\n",
       "      <td>3</td>\n",
       "      <td>250</td>\n",
       "      <td>3.000000</td>\n",
       "      <td>0.5</td>\n",
       "      <td>0.865083</td>\n",
       "      <td>0.715815</td>\n",
       "      <td>0.866827</td>\n",
       "      <td>0.735244</td>\n",
       "      <td>0.637329</td>\n",
       "    </tr>\n",
       "    <tr>\n",
       "      <th>133</th>\n",
       "      <td>2</td>\n",
       "      <td>250</td>\n",
       "      <td>3.000000</td>\n",
       "      <td>0.5</td>\n",
       "      <td>0.855000</td>\n",
       "      <td>0.693230</td>\n",
       "      <td>0.871298</td>\n",
       "      <td>0.725596</td>\n",
       "      <td>0.632210</td>\n",
       "    </tr>\n",
       "    <tr>\n",
       "      <th>313</th>\n",
       "      <td>4</td>\n",
       "      <td>250</td>\n",
       "      <td>3.000000</td>\n",
       "      <td>0.5</td>\n",
       "      <td>0.858167</td>\n",
       "      <td>0.694982</td>\n",
       "      <td>0.864983</td>\n",
       "      <td>0.729994</td>\n",
       "      <td>0.631432</td>\n",
       "    </tr>\n",
       "    <tr>\n",
       "      <th>43</th>\n",
       "      <td>1</td>\n",
       "      <td>250</td>\n",
       "      <td>3.000000</td>\n",
       "      <td>0.5</td>\n",
       "      <td>0.857583</td>\n",
       "      <td>0.689329</td>\n",
       "      <td>0.868257</td>\n",
       "      <td>0.724603</td>\n",
       "      <td>0.629141</td>\n",
       "    </tr>\n",
       "    <tr>\n",
       "      <th>220</th>\n",
       "      <td>3</td>\n",
       "      <td>250</td>\n",
       "      <td>4.000000</td>\n",
       "      <td>0.5</td>\n",
       "      <td>0.877067</td>\n",
       "      <td>0.656611</td>\n",
       "      <td>0.904947</td>\n",
       "      <td>0.632378</td>\n",
       "      <td>0.572269</td>\n",
       "    </tr>\n",
       "    <tr>\n",
       "      <th>40</th>\n",
       "      <td>1</td>\n",
       "      <td>250</td>\n",
       "      <td>4.000000</td>\n",
       "      <td>0.5</td>\n",
       "      <td>0.871600</td>\n",
       "      <td>0.643993</td>\n",
       "      <td>0.907236</td>\n",
       "      <td>0.615636</td>\n",
       "      <td>0.558527</td>\n",
       "    </tr>\n",
       "    <tr>\n",
       "      <th>52</th>\n",
       "      <td>1</td>\n",
       "      <td>250</td>\n",
       "      <td>1.000000</td>\n",
       "      <td>0.5</td>\n",
       "      <td>0.847167</td>\n",
       "      <td>0.851834</td>\n",
       "      <td>0.581233</td>\n",
       "      <td>0.958144</td>\n",
       "      <td>0.556905</td>\n",
       "    </tr>\n",
       "    <tr>\n",
       "      <th>310</th>\n",
       "      <td>4</td>\n",
       "      <td>250</td>\n",
       "      <td>4.000000</td>\n",
       "      <td>0.5</td>\n",
       "      <td>0.875400</td>\n",
       "      <td>0.648486</td>\n",
       "      <td>0.912019</td>\n",
       "      <td>0.605988</td>\n",
       "      <td>0.552672</td>\n",
       "    </tr>\n",
       "    <tr>\n",
       "      <th>400</th>\n",
       "      <td>5</td>\n",
       "      <td>250</td>\n",
       "      <td>4.000000</td>\n",
       "      <td>0.5</td>\n",
       "      <td>0.872067</td>\n",
       "      <td>0.638946</td>\n",
       "      <td>0.908622</td>\n",
       "      <td>0.605136</td>\n",
       "      <td>0.549840</td>\n",
       "    </tr>\n",
       "    <tr>\n",
       "      <th>412</th>\n",
       "      <td>5</td>\n",
       "      <td>250</td>\n",
       "      <td>1.000000</td>\n",
       "      <td>0.5</td>\n",
       "      <td>0.831333</td>\n",
       "      <td>0.835661</td>\n",
       "      <td>0.570858</td>\n",
       "      <td>0.957151</td>\n",
       "      <td>0.546397</td>\n",
       "    </tr>\n",
       "    <tr>\n",
       "      <th>322</th>\n",
       "      <td>4</td>\n",
       "      <td>250</td>\n",
       "      <td>1.000000</td>\n",
       "      <td>0.5</td>\n",
       "      <td>0.833333</td>\n",
       "      <td>0.836066</td>\n",
       "      <td>0.567889</td>\n",
       "      <td>0.955590</td>\n",
       "      <td>0.542669</td>\n",
       "    </tr>\n",
       "    <tr>\n",
       "      <th>142</th>\n",
       "      <td>2</td>\n",
       "      <td>250</td>\n",
       "      <td>1.000000</td>\n",
       "      <td>0.5</td>\n",
       "      <td>0.837667</td>\n",
       "      <td>0.845495</td>\n",
       "      <td>0.568852</td>\n",
       "      <td>0.951617</td>\n",
       "      <td>0.541329</td>\n",
       "    </tr>\n",
       "    <tr>\n",
       "      <th>130</th>\n",
       "      <td>2</td>\n",
       "      <td>250</td>\n",
       "      <td>4.000000</td>\n",
       "      <td>0.5</td>\n",
       "      <td>0.868867</td>\n",
       "      <td>0.634590</td>\n",
       "      <td>0.912731</td>\n",
       "      <td>0.590096</td>\n",
       "      <td>0.538599</td>\n",
       "    </tr>\n",
       "    <tr>\n",
       "      <th>232</th>\n",
       "      <td>3</td>\n",
       "      <td>250</td>\n",
       "      <td>1.000000</td>\n",
       "      <td>0.5</td>\n",
       "      <td>0.840833</td>\n",
       "      <td>0.845943</td>\n",
       "      <td>0.558467</td>\n",
       "      <td>0.961975</td>\n",
       "      <td>0.537231</td>\n",
       "    </tr>\n",
       "    <tr>\n",
       "      <th>37</th>\n",
       "      <td>1</td>\n",
       "      <td>250</td>\n",
       "      <td>10.000000</td>\n",
       "      <td>0.5</td>\n",
       "      <td>0.924697</td>\n",
       "      <td>0.390483</td>\n",
       "      <td>0.978380</td>\n",
       "      <td>0.193104</td>\n",
       "      <td>0.188930</td>\n",
       "    </tr>\n",
       "    <tr>\n",
       "      <th>307</th>\n",
       "      <td>4</td>\n",
       "      <td>250</td>\n",
       "      <td>10.000000</td>\n",
       "      <td>0.5</td>\n",
       "      <td>0.924000</td>\n",
       "      <td>0.387396</td>\n",
       "      <td>0.978170</td>\n",
       "      <td>0.191260</td>\n",
       "      <td>0.187085</td>\n",
       "    </tr>\n",
       "    <tr>\n",
       "      <th>217</th>\n",
       "      <td>3</td>\n",
       "      <td>250</td>\n",
       "      <td>10.000000</td>\n",
       "      <td>0.5</td>\n",
       "      <td>0.924667</td>\n",
       "      <td>0.394250</td>\n",
       "      <td>0.979332</td>\n",
       "      <td>0.179625</td>\n",
       "      <td>0.175913</td>\n",
       "    </tr>\n",
       "    <tr>\n",
       "      <th>127</th>\n",
       "      <td>2</td>\n",
       "      <td>250</td>\n",
       "      <td>10.000000</td>\n",
       "      <td>0.5</td>\n",
       "      <td>0.922576</td>\n",
       "      <td>0.381506</td>\n",
       "      <td>0.979456</td>\n",
       "      <td>0.177781</td>\n",
       "      <td>0.174129</td>\n",
       "    </tr>\n",
       "    <tr>\n",
       "      <th>397</th>\n",
       "      <td>5</td>\n",
       "      <td>250</td>\n",
       "      <td>10.000000</td>\n",
       "      <td>0.5</td>\n",
       "      <td>0.923000</td>\n",
       "      <td>0.390501</td>\n",
       "      <td>0.979400</td>\n",
       "      <td>0.166288</td>\n",
       "      <td>0.162863</td>\n",
       "    </tr>\n",
       "  </tbody>\n",
       "</table>\n",
       "</div>"
      ],
      "text/plain": [
       "     Iteration  Trees  Rebalance frac  Threshold  Train Accuracy  \\\n",
       "136          2    250        2.333333        0.5        0.847000   \n",
       "46           1    250        2.333333        0.5        0.854900   \n",
       "406          5    250        2.333333        0.5        0.850900   \n",
       "316          4    250        2.333333        0.5        0.845700   \n",
       "226          3    250        2.333333        0.5        0.852000   \n",
       "409          5    250        1.500000        0.5        0.835867   \n",
       "229          3    250        1.500000        0.5        0.842533   \n",
       "49           1    250        1.500000        0.5        0.833600   \n",
       "319          4    250        1.500000        0.5        0.838667   \n",
       "139          2    250        1.500000        0.5        0.832533   \n",
       "403          5    250        3.000000        0.5        0.856417   \n",
       "223          3    250        3.000000        0.5        0.865083   \n",
       "133          2    250        3.000000        0.5        0.855000   \n",
       "313          4    250        3.000000        0.5        0.858167   \n",
       "43           1    250        3.000000        0.5        0.857583   \n",
       "220          3    250        4.000000        0.5        0.877067   \n",
       "40           1    250        4.000000        0.5        0.871600   \n",
       "52           1    250        1.000000        0.5        0.847167   \n",
       "310          4    250        4.000000        0.5        0.875400   \n",
       "400          5    250        4.000000        0.5        0.872067   \n",
       "412          5    250        1.000000        0.5        0.831333   \n",
       "322          4    250        1.000000        0.5        0.833333   \n",
       "142          2    250        1.000000        0.5        0.837667   \n",
       "130          2    250        4.000000        0.5        0.868867   \n",
       "232          3    250        1.000000        0.5        0.840833   \n",
       "37           1    250       10.000000        0.5        0.924697   \n",
       "307          4    250       10.000000        0.5        0.924000   \n",
       "217          3    250       10.000000        0.5        0.924667   \n",
       "127          2    250       10.000000        0.5        0.922576   \n",
       "397          5    250       10.000000        0.5        0.923000   \n",
       "\n",
       "     Train Recall  Test Accuracy  Test Recall  tot_metric  \n",
       "136      0.741729       0.813493     0.820091    0.667138  \n",
       "46       0.747784       0.815683     0.817679    0.666967  \n",
       "406      0.745693       0.816855     0.814983    0.665723  \n",
       "316      0.740541       0.820515     0.811010    0.665446  \n",
       "226      0.747268       0.819982     0.808173    0.662687  \n",
       "409      0.797099       0.707111     0.913593    0.646012  \n",
       "229      0.798705       0.708732     0.911039    0.645682  \n",
       "49       0.791861       0.704459     0.912599    0.642889  \n",
       "319      0.800000       0.707501     0.908059    0.642452  \n",
       "139      0.793828       0.706526     0.907633    0.641267  \n",
       "403      0.693143       0.865288     0.736805    0.637549  \n",
       "223      0.715815       0.866827     0.735244    0.637329  \n",
       "133      0.693230       0.871298     0.725596    0.632210  \n",
       "313      0.694982       0.864983     0.729994    0.631432  \n",
       "43       0.689329       0.868257     0.724603    0.629141  \n",
       "220      0.656611       0.904947     0.632378    0.572269  \n",
       "40       0.643993       0.907236     0.615636    0.558527  \n",
       "52       0.851834       0.581233     0.958144    0.556905  \n",
       "310      0.648486       0.912019     0.605988    0.552672  \n",
       "400      0.638946       0.908622     0.605136    0.549840  \n",
       "412      0.835661       0.570858     0.957151    0.546397  \n",
       "322      0.836066       0.567889     0.955590    0.542669  \n",
       "142      0.845495       0.568852     0.951617    0.541329  \n",
       "130      0.634590       0.912731     0.590096    0.538599  \n",
       "232      0.845943       0.558467     0.961975    0.537231  \n",
       "37       0.390483       0.978380     0.193104    0.188930  \n",
       "307      0.387396       0.978170     0.191260    0.187085  \n",
       "217      0.394250       0.979332     0.179625    0.175913  \n",
       "127      0.381506       0.979456     0.177781    0.174129  \n",
       "397      0.390501       0.979400     0.166288    0.162863  "
      ]
     },
     "execution_count": 54,
     "metadata": {},
     "output_type": "execute_result"
    }
   ],
   "source": [
    "param_df.sort_values(by= ['tot_metric'], ascending= False).fillna(value= 0.0).groupby('Threshold').get_group(0.5).groupby('Trees').get_group(250)"
   ]
  },
  {
   "cell_type": "code",
   "execution_count": null,
   "metadata": {},
   "outputs": [],
   "source": [
    "#%time rf, forest, train_metrics, test_metrics= rf_fire_grid_run(clim_grid_df= clim_df, rb_frac= 7/3, n_features= 36, threshold= None, criterion= 'entropy')"
   ]
  },
  {
   "cell_type": "markdown",
   "metadata": {
    "id": "Sb37BKjCMZID"
   },
   "source": [
    "### Variable Importance"
   ]
  },
  {
   "cell_type": "code",
   "execution_count": 15,
   "metadata": {
    "colab": {
     "base_uri": "https://localhost:8080/"
    },
    "executionInfo": {
     "elapsed": 788571,
     "status": "ok",
     "timestamp": 1608648878790,
     "user": {
      "displayName": "Jessalyn Chuang",
      "photoUrl": "",
      "userId": "15246295192484075185"
     },
     "user_tz": 300
    },
    "id": "0z0nL7tNMZIE",
    "outputId": "d0a02d9e-d7ec-4d7b-c198-161786b0d43f"
   },
   "outputs": [
    {
     "name": "stdout",
     "output_type": "stream",
     "text": [
      "Variable: FM1000               Importance: 0.0988\n",
      "Variable: VPD                  Importance: 0.0987\n",
      "Variable: Tmax                 Importance: 0.0795\n",
      "Variable: Solar                Importance: 0.0768\n",
      "Variable: Antprec_lag1         Importance: 0.0694\n",
      "Variable: Tmin                 Importance: 0.0683\n",
      "Variable: Prec                 Importance: 0.0501\n",
      "Variable: Ant_Tmax             Importance: 0.0495\n",
      "Variable: Forest               Importance: 0.049\n",
      "Variable: Grassland            Importance: 0.0487\n",
      "Variable: AvgVPD_3mo           Importance: 0.047\n",
      "Variable: CAPE                 Importance: 0.0449\n",
      "Variable: Avgprec_3mo          Importance: 0.0427\n",
      "Variable: Wind                 Importance: 0.0406\n",
      "Variable: Elev                 Importance: 0.0401\n",
      "Variable: FFWI_max3            Importance: 0.034\n",
      "Variable: FFWI_max7            Importance: 0.0335\n",
      "Variable: Urban                Importance: 0.0285\n"
     ]
    }
   ],
   "source": [
    "pimp_flag= False\n",
    "feature_list= list(clim_df.iloc[:, 0:20].drop(columns= ['Solar', 'Ant_Tmax', 'RH', 'Ant_RH']).columns)\n",
    "if not pimp_flag:\n",
    "    importances= list(forest.feature_importances_)\n",
    "    feature_importances= [(feature, round(importance, 4)) for feature, importance in zip(feature_list, importances)]\n",
    "else:\n",
    "    importances= permutation_importance(forest, X, y, n_repeats=10, random_state=42, n_jobs= -1)\n",
    "    feature_importances= [(feature, abs(importance)) for feature, importance in zip(feature_list, importances['importances_mean'])]\n",
    "feature_importances = sorted(feature_importances, key= lambda x: x[1], reverse= True)\n",
    "for pair in feature_importances:\n",
    "    print('Variable: {:20} Importance: {}'.format(*pair))"
   ]
  },
  {
   "cell_type": "code",
   "execution_count": 16,
   "metadata": {
    "colab": {
     "base_uri": "https://localhost:8080/",
     "height": 443
    },
    "executionInfo": {
     "elapsed": 788559,
     "status": "ok",
     "timestamp": 1608648878792,
     "user": {
      "displayName": "Jessalyn Chuang",
      "photoUrl": "",
      "userId": "15246295192484075185"
     },
     "user_tz": 300
    },
    "id": "WWSq5hiMMZIE",
    "outputId": "034554ac-18fc-4c95-e7dc-aa5f4c0c3ccc"
   },
   "outputs": [
    {
     "data": {
      "text/plain": [
       "Text(0.5, 1.0, 'Variable Importance')"
      ]
     },
     "execution_count": 16,
     "metadata": {},
     "output_type": "execute_result"
    },
    {
     "data": {
      "image/png": "[encoded data removed]",
      "text/plain": [
       "<Figure size 576x432 with 1 Axes>"
      ]
     },
     "metadata": {
      "image/png": {
       "height": 444,
       "width": 503
      },
      "needs_background": "light"
     },
     "output_type": "display_data"
    }
   ],
   "source": [
    "plt.rcParams[\"figure.figsize\"] = (8, 6)\n",
    "x_values = list(range(len(importances)))\n",
    "plt.bar(x_values, importances, orientation = 'vertical')\n",
    "plt.xticks(x_values, feature_list, rotation='vertical')\n",
    "plt.ylabel('Importance'); plt.xlabel('Variable'); plt.title('Variable Importance')"
   ]
  },
  {
   "cell_type": "markdown",
   "metadata": {
    "id": "lygufbe-MZH-",
    "jp-MarkdownHeadingCollapsed": true,
    "tags": []
   },
   "source": [
    "### Sanity check"
   ]
  },
  {
   "cell_type": "code",
   "execution_count": 92,
   "metadata": {
    "executionInfo": {
     "elapsed": 361913,
     "status": "ok",
     "timestamp": 1608648451999,
     "user": {
      "displayName": "Jessalyn Chuang",
      "photoUrl": "",
      "userId": "15246295192484075185"
     },
     "user_tz": 300
    },
    "id": "Q9oY8f2aMZH_"
   },
   "outputs": [],
   "source": [
    "rb_frac= 75/25 #fraction of no fires to fires\n",
    "\n",
    "df1= clim_df[clim_df['fire_freq']==1]\n",
    "n1= len(df1)\n",
    "\n",
    "n2= rb_frac*n1\n",
    "df2= clim_df[clim_df['fire_freq']==0]\n",
    "df2= df2.sample(n= int(n2))\n",
    "\n",
    "df_r= pd.concat([df1, df2], sort= False).sample(frac= 1).reset_index(drop=True) #shuffling the rows"
   ]
  },
  {
   "cell_type": "code",
   "execution_count": 93,
   "metadata": {
    "executionInfo": {
     "elapsed": 365603,
     "status": "ok",
     "timestamp": 1608648455702,
     "user": {
      "displayName": "Jessalyn Chuang",
      "photoUrl": "",
      "userId": "15246295192484075185"
     },
     "user_tz": 300
    },
    "id": "8rfzZ-9dMZH_"
   },
   "outputs": [],
   "source": [
    "y_r = np.array(df_r.fire_freq)\n",
    "X_r = df_r.iloc[:, 0:36].drop(columns= ['Solar', 'Ant_Tmax','RH', 'Ant_RH']) #'solar', 'prec', 'deltaT', 'tmin','wind','forest','urban'\n",
    "\n",
    "minmax_scaler = MinMaxScaler()\n",
    "X_r = minmax_scaler.fit_transform(X_r)\n",
    "X_r = np.array(X_r, dtype=np.float32)\n",
    "\n",
    "X_train, X_val, y_train, y_val = train_test_split(X_r, y_r, test_size=0.3, random_state= 99)"
   ]
  },
  {
   "cell_type": "markdown",
   "metadata": {
    "id": "lTALnpYBMZIA"
   },
   "source": [
    "#### Training"
   ]
  },
  {
   "cell_type": "code",
   "execution_count": 94,
   "metadata": {
    "executionInfo": {
     "elapsed": 365593,
     "status": "ok",
     "timestamp": 1608648455708,
     "user": {
      "displayName": "Jessalyn Chuang",
      "photoUrl": "",
      "userId": "15246295192484075185"
     },
     "user_tz": 300
    },
    "id": "sjZhsFg0MZIB"
   },
   "outputs": [],
   "source": [
    "# Instantiate model with n_estimators decision trees\n",
    "rf= RandomForestClassifier(n_estimators= 100, random_state= 87)"
   ]
  },
  {
   "cell_type": "code",
   "execution_count": 95,
   "metadata": {
    "executionInfo": {
     "elapsed": 365593,
     "status": "ok",
     "timestamp": 1608648455708,
     "user": {
      "displayName": "Jessalyn Chuang",
      "photoUrl": "",
      "userId": "15246295192484075185"
     },
     "user_tz": 300
    },
    "id": "sjZhsFg0MZIB"
   },
   "outputs": [
    {
     "name": "stdout",
     "output_type": "stream",
     "text": [
      "CPU times: user 15.7 s, sys: 89.9 ms, total: 15.8 s\n",
      "Wall time: 15.9 s\n"
     ]
    }
   ],
   "source": [
    "# Train the model on training data\n",
    "%time forest= rf.fit(X_train, y_train)"
   ]
  },
  {
   "cell_type": "markdown",
   "metadata": {
    "id": "TS4Ka5YVMZIB"
   },
   "source": [
    "#### Testing on validation set"
   ]
  },
  {
   "cell_type": "code",
   "execution_count": 96,
   "metadata": {
    "colab": {
     "base_uri": "https://localhost:8080/"
    },
    "executionInfo": {
     "elapsed": 402895,
     "status": "ok",
     "timestamp": 1608648493042,
     "user": {
      "displayName": "Jessalyn Chuang",
      "photoUrl": "",
      "userId": "15246295192484075185"
     },
     "user_tz": 300
    },
    "id": "7D5dJAl0MZIB",
    "outputId": "3118e2c2-7e94-4003-c74f-c654d51443a9"
   },
   "outputs": [
    {
     "name": "stdout",
     "output_type": "stream",
     "text": [
      "Mean Absolute Error: 0.150406 degrees.\n"
     ]
    }
   ],
   "source": [
    "# Use the forest's predict method on the test data\n",
    "predictions = rf.predict(X_val)\n",
    "# Calculate the absolute errors\n",
    "errors = abs(predictions - y_val)\n",
    "# Print out the mean absolute error (mae)\n",
    "print('Mean Absolute Error:', round(np.mean(errors), 6), 'degrees.')"
   ]
  },
  {
   "cell_type": "code",
   "execution_count": 97,
   "metadata": {
    "colab": {
     "base_uri": "https://localhost:8080/"
    },
    "executionInfo": {
     "elapsed": 402885,
     "status": "ok",
     "timestamp": 1608648493044,
     "user": {
      "displayName": "Jessalyn Chuang",
      "photoUrl": "",
      "userId": "15246295192484075185"
     },
     "user_tz": 300
    },
    "id": "pfljq2oeMZIC",
    "outputId": "35a0dc54-3b90-4d18-d5f6-3e170c97a112"
   },
   "outputs": [
    {
     "name": "stdout",
     "output_type": "stream",
     "text": [
      "accuracy:  0.849594290742008\n",
      "f1 score:  0.6870741381063764\n",
      "recall:  0.6535113174695298\n"
     ]
    }
   ],
   "source": [
    "pscore = metrics.accuracy_score(y_val, predictions)\n",
    "print(\"accuracy: \", pscore)\n",
    "score = metrics.f1_score(y_val, predictions)\n",
    "print(\"f1 score: \", score)\n",
    "recall = metrics.recall_score(y_val, predictions)\n",
    "print(\"recall: \", recall)"
   ]
  },
  {
   "cell_type": "code",
   "execution_count": 68,
   "metadata": {
    "colab": {
     "base_uri": "https://localhost:8080/"
    },
    "executionInfo": {
     "elapsed": 402873,
     "status": "ok",
     "timestamp": 1608648493045,
     "user": {
      "displayName": "Jessalyn Chuang",
      "photoUrl": "",
      "userId": "15246295192484075185"
     },
     "user_tz": 300
    },
    "id": "_6Y9KY9BMZIC",
    "outputId": "e5079bea-3a06-4e11-bb01-d68953d60761"
   },
   "outputs": [
    {
     "data": {
      "text/plain": [
       "array([[14120,  1260],\n",
       "       [ 1720,  3358]])"
      ]
     },
     "execution_count": 68,
     "metadata": {},
     "output_type": "execute_result"
    }
   ],
   "source": [
    "cf = confusion_matrix(y_val, predictions)\n",
    "cf"
   ]
  },
  {
   "cell_type": "code",
   "execution_count": 75,
   "metadata": {},
   "outputs": [],
   "source": [
    "threshold= 0.4\n",
    "predicted_thresh= rf.predict_proba(X_val)\n",
    "predicted_thresh= (predicted_thresh[:, 1] >= threshold).astype('int')"
   ]
  },
  {
   "cell_type": "code",
   "execution_count": 76,
   "metadata": {},
   "outputs": [
    {
     "name": "stdout",
     "output_type": "stream",
     "text": [
      "accuracy:  0.8487144393391338\n",
      "f1 score:  0.7172224760164457\n",
      "recall:  0.7729421031902324\n"
     ]
    }
   ],
   "source": [
    "pscore = metrics.accuracy_score(y_val, predicted_thresh)\n",
    "print(\"accuracy: \", pscore)\n",
    "score = metrics.f1_score(y_val, predicted_thresh)\n",
    "print(\"f1 score: \", score)\n",
    "recall = metrics.recall_score(y_val, predicted_thresh)\n",
    "print(\"recall: \", recall)"
   ]
  },
  {
   "cell_type": "code",
   "execution_count": 77,
   "metadata": {},
   "outputs": [
    {
     "data": {
      "text/plain": [
       "array([[13438,  1942],\n",
       "       [ 1153,  3925]])"
      ]
     },
     "execution_count": 77,
     "metadata": {},
     "output_type": "execute_result"
    }
   ],
   "source": [
    "cf = confusion_matrix(y_val, predicted_thresh)\n",
    "cf"
   ]
  },
  {
   "cell_type": "markdown",
   "metadata": {
    "id": "WveH8wu-MZIC"
   },
   "source": [
    "#### Testing on real dataset"
   ]
  },
  {
   "cell_type": "code",
   "execution_count": 78,
   "metadata": {
    "executionInfo": {
     "elapsed": 32331,
     "status": "ok",
     "timestamp": 1608648118202,
     "user": {
      "displayName": "Jessalyn Chuang",
      "photoUrl": "",
      "userId": "15246295192484075185"
     },
     "user_tz": 300
    },
    "id": "Qp0sZpW2MZH8"
   },
   "outputs": [],
   "source": [
    "y= np.array(clim_df.fire_freq)\n",
    "X= clim_df.iloc[:, 0:20].drop(columns= ['RH', 'Ant_RH'])\n",
    "minmax_scaler= MinMaxScaler()\n",
    "X= minmax_scaler.fit_transform(X)\n",
    "X= np.array(X, dtype=np.float32)"
   ]
  },
  {
   "cell_type": "code",
   "execution_count": 79,
   "metadata": {
    "colab": {
     "base_uri": "https://localhost:8080/"
    },
    "executionInfo": {
     "elapsed": 728724,
     "status": "ok",
     "timestamp": 1608648818910,
     "user": {
      "displayName": "Jessalyn Chuang",
      "photoUrl": "",
      "userId": "15246295192484075185"
     },
     "user_tz": 300
    },
    "id": "ZmaYLxeKMZID",
    "outputId": "f90e6bed-6f38-4b24-c349-8a4008600ac2"
   },
   "outputs": [
    {
     "name": "stdout",
     "output_type": "stream",
     "text": [
      "CPU times: user 1min 31s, sys: 6.88 s, total: 1min 38s\n",
      "Wall time: 1min 47s\n",
      "Mean Absolute Error: 0.070219 degrees.\n"
     ]
    }
   ],
   "source": [
    "# Use the forest's predict method on the test data\n",
    "%time predictions= rf.predict(X)\n",
    "# Calculate the absolute errors\n",
    "errors = abs(predictions - y)\n",
    "# Print out the mean absolute error (mae)\n",
    "print('Mean Absolute Error:', round(np.mean(errors), 6), 'degrees.')"
   ]
  },
  {
   "cell_type": "code",
   "execution_count": 80,
   "metadata": {
    "colab": {
     "base_uri": "https://localhost:8080/"
    },
    "executionInfo": {
     "elapsed": 761731,
     "status": "ok",
     "timestamp": 1608648851931,
     "user": {
      "displayName": "Jessalyn Chuang",
      "photoUrl": "",
      "userId": "15246295192484075185"
     },
     "user_tz": 300
    },
    "id": "xdkOK4kbMZID",
    "outputId": "b1f86cab-3c56-4bcc-82c5-ff29e00fd62d"
   },
   "outputs": [
    {
     "name": "stdout",
     "output_type": "stream",
     "text": [
      "accuracy:  0.9297813036020584\n",
      "f1 score:  0.028808199380385296\n",
      "recall:  0.6308071328015017\n"
     ]
    }
   ],
   "source": [
    "pscore = metrics.accuracy_score(y, predictions)\n",
    "print(\"accuracy: \", pscore)\n",
    "score = metrics.f1_score(y, predictions)\n",
    "print(\"f1 score: \", score)\n",
    "recall = metrics.recall_score(y, predictions)\n",
    "print(\"recall: \", recall)"
   ]
  },
  {
   "cell_type": "code",
   "execution_count": 81,
   "metadata": {
    "colab": {
     "base_uri": "https://localhost:8080/"
    },
    "executionInfo": {
     "elapsed": 788582,
     "status": "ok",
     "timestamp": 1608648878787,
     "user": {
      "displayName": "Jessalyn Chuang",
      "photoUrl": "",
      "userId": "15246295192484075185"
     },
     "user_tz": 300
    },
    "id": "GbD30iKTMZID",
    "outputId": "62b8f1db-a6a1-491e-a80d-2651da2e7849"
   },
   "outputs": [
    {
     "data": {
      "text/plain": [
       "array([[9590257,  718791],\n",
       "       [   6294,   10754]])"
      ]
     },
     "execution_count": 81,
     "metadata": {},
     "output_type": "execute_result"
    }
   ],
   "source": [
    "cf = confusion_matrix(y, predictions)\n",
    "cf"
   ]
  },
  {
   "cell_type": "code",
   "execution_count": 89,
   "metadata": {},
   "outputs": [],
   "source": [
    "threshold= 0.35\n",
    "%time predicted_thresh= rf.predict_proba(X)\n",
    "predicted_thresh= (predicted_thresh[:, 1] >= threshold).astype('int')"
   ]
  },
  {
   "cell_type": "code",
   "execution_count": 90,
   "metadata": {},
   "outputs": [
    {
     "name": "stdout",
     "output_type": "stream",
     "text": [
      "accuracy:  0.8544066411933416\n",
      "f1 score:  0.01845940908215462\n",
      "recall:  0.8292468324730173\n"
     ]
    }
   ],
   "source": [
    "pscore = metrics.accuracy_score(y, predicted_thresh)\n",
    "print(\"accuracy: \", pscore)\n",
    "score = metrics.f1_score(y, predicted_thresh)\n",
    "print(\"f1 score: \", score)\n",
    "recall = metrics.recall_score(y, predicted_thresh)\n",
    "print(\"recall: \", recall)"
   ]
  },
  {
   "cell_type": "code",
   "execution_count": 91,
   "metadata": {},
   "outputs": [
    {
     "data": {
      "text/plain": [
       "array([[8808548, 1500500],\n",
       "       [   2911,   14137]])"
      ]
     },
     "execution_count": 91,
     "metadata": {},
     "output_type": "execute_result"
    }
   ],
   "source": [
    "cf = confusion_matrix(y, predicted_thresh)\n",
    "cf"
   ]
  },
  {
   "cell_type": "markdown",
   "metadata": {
    "id": "Zv0Z1IDcMZIS",
    "tags": []
   },
   "source": [
    "### Testing"
   ]
  },
  {
   "cell_type": "code",
   "execution_count": 6,
   "metadata": {},
   "outputs": [],
   "source": [
    "tot_months= 60\n",
    "n_regions= 18\n",
    "\n",
    "month_arr= np.linspace(0, tot_months - 1, tot_months, dtype= int)\n",
    "year_arr= np.asarray([2015, 2016, 2017, 2018, 2019, 2020]) \n",
    "\n",
    "reg_name= {1: \"Sierra Nevada\", 2: \"North Coast\", 3: \"Central Coast\", 4: \"South Coast\", 5: \"Pacific NW\", 6: \"Columbia Plateau\", 7:\"Northern Rockies\", \\\n",
    "          8: \"Middle Rockies\", 9: \"Southern Rockies\", 10: \"AM Semidesert\", 11: \"AZ/NM Mts.\", 12: \"IM Semidesert\", 13: \"IM Desert\", 14: \"Northern Great Plains\", 15: \"High Plains\", 16: \"CO Plateau\", 17: \"SW Tablelands\", 18: \"CH Desert\"}"
   ]
  }
 ],
 "metadata": {
  "accelerator": "TPU",
  "colab": {
   "machine_shape": "hm",
   "name": "Learning_Fires_Final_no_coord_TF1.ipynb",
   "provenance": []
  },
  "kernelspec": {
   "display_name": "Python 3 (ipykernel)",
   "language": "python",
   "name": "python3"
  },
  "language_info": {
   "codemirror_mode": {
    "name": "ipython",
    "version": 3
   },
   "file_extension": ".py",
   "mimetype": "text/x-python",
   "name": "python",
   "nbconvert_exporter": "python",
   "pygments_lexer": "ipython3",
   "version": "3.9.7"
  }
 },
 "nbformat": 4,
 "nbformat_minor": 4
}
